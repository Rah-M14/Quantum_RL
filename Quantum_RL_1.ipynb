{
 "cells": [
  {
   "cell_type": "markdown",
   "id": "9eefe7ff-99b4-46a0-9c75-970f315542e3",
   "metadata": {},
   "source": [
    "### Quantum Reinforcement Learning in Cartpole environment of the gym"
   ]
  },
  {
   "cell_type": "code",
   "execution_count": 1,
   "id": "5d2c96b3-09c5-408e-bd5d-6d82c579a5e1",
   "metadata": {},
   "outputs": [
    {
     "name": "stderr",
     "output_type": "stream",
     "text": [
      "/tmp/ipykernel_96474/1875984233.py:2: DeprecationWarning: pkg_resources is deprecated as an API. See https://setuptools.pypa.io/en/latest/pkg_resources.html\n",
      "  import importlib, pkg_resources\n"
     ]
    },
    {
     "data": {
      "text/plain": [
       "<module 'pkg_resources' from '/home/arshia/miniconda3/envs/tfq_env/lib/python3.8/site-packages/pkg_resources/__init__.py'>"
      ]
     },
     "execution_count": 1,
     "metadata": {},
     "output_type": "execute_result"
    }
   ],
   "source": [
    "# Update package resources to account for version changes.\n",
    "import importlib, pkg_resources\n",
    "importlib.reload(pkg_resources)"
   ]
  },
  {
   "cell_type": "code",
   "execution_count": 2,
   "id": "7e08e2d4-a904-47a7-8bfb-77e825de7bf5",
   "metadata": {},
   "outputs": [
    {
     "name": "stderr",
     "output_type": "stream",
     "text": [
      "2024-03-24 14:38:49.294179: I tensorflow/core/platform/cpu_feature_guard.cc:193] This TensorFlow binary is optimized with oneAPI Deep Neural Network Library (oneDNN) to use the following CPU instructions in performance-critical operations:  SSE4.1 SSE4.2 AVX AVX2 FMA\n",
      "To enable them in other operations, rebuild TensorFlow with the appropriate compiler flags.\n",
      "2024-03-24 14:38:52.411899: I tensorflow/core/platform/cpu_feature_guard.cc:193] This TensorFlow binary is optimized with oneAPI Deep Neural Network Library (oneDNN) to use the following CPU instructions in performance-critical operations:  SSE4.1 SSE4.2 AVX AVX2 FMA\n",
      "To enable them in other operations, rebuild TensorFlow with the appropriate compiler flags.\n",
      "2024-03-24 14:38:52.412990: I tensorflow/core/common_runtime/process_util.cc:146] Creating new thread pool with default inter op setting: 2. Tune using inter_op_parallelism_threads for best performance.\n"
     ]
    }
   ],
   "source": [
    "import tensorflow as tf\n",
    "import tensorflow_quantum as tfq\n",
    "\n",
    "import gym, cirq, sympy\n",
    "import numpy as np\n",
    "from functools import reduce\n",
    "from collections import deque, defaultdict\n",
    "import matplotlib.pyplot as plt\n",
    "from cirq.contrib.svg import SVGCircuit\n",
    "tf.get_logger().setLevel('ERROR')"
   ]
  },
  {
   "cell_type": "markdown",
   "id": "3e84efb2-267b-46d6-b571-ccde34204ac3",
   "metadata": {},
   "source": [
    "### 1. Build a PQC with data re-uploading"
   ]
  },
  {
   "cell_type": "code",
   "execution_count": 3,
   "id": "39e2abc5-99dd-434f-a8b6-c2d3cf64a99c",
   "metadata": {},
   "outputs": [],
   "source": [
    "def one_qubit_rotation(qubit, symbols):\n",
    "    \"\"\"\n",
    "    Returns Cirq gates that apply a rotation of the bloch sphere about the X,\n",
    "    Y and Z axis, specified by the values in `symbols`.\n",
    "    \"\"\"\n",
    "    return [cirq.rx(symbols[0])(qubit),\n",
    "            cirq.ry(symbols[1])(qubit),\n",
    "            cirq.rz(symbols[2])(qubit)]\n",
    "\n",
    "def entangling_layer(qubits):\n",
    "    \"\"\"\n",
    "    Returns a layer of CZ entangling gates on `qubits` (arranged in a circular topology).\n",
    "    \"\"\"\n",
    "    cz_ops = [cirq.CZ(q0, q1) for q0, q1 in zip(qubits, qubits[1:])]\n",
    "    cz_ops += ([cirq.CZ(qubits[0], qubits[-1])] if len(qubits) != 2 else [])\n",
    "    return cz_ops"
   ]
  },
  {
   "cell_type": "code",
   "execution_count": 4,
   "id": "f50b2fb8-c4b2-4dbf-92f9-2b8e93cec486",
   "metadata": {},
   "outputs": [],
   "source": [
    "def generate_circuit(qubits, n_layers):\n",
    "    \"\"\"Prepares a data re-uploading circuit on `qubits` with `n_layers` layers.\"\"\"\n",
    "    # Number of qubits\n",
    "    n_qubits = len(qubits)\n",
    "\n",
    "    # Sympy symbols for variational angles\n",
    "    params = sympy.symbols(f'theta(0:{3*(n_layers+1)*n_qubits})')\n",
    "    params = np.asarray(params).reshape((n_layers + 1, n_qubits, 3))\n",
    "\n",
    "    # Sympy symbols for encoding angles\n",
    "    inputs = sympy.symbols(f'x(0:{n_layers})'+f'_(0:{n_qubits})')\n",
    "    inputs = np.asarray(inputs).reshape((n_layers, n_qubits))\n",
    "\n",
    "    # Define circuit\n",
    "    circuit = cirq.Circuit()\n",
    "    for l in range(n_layers):\n",
    "        # Variational layer\n",
    "        circuit += cirq.Circuit(one_qubit_rotation(q, params[l, i]) for i, q in enumerate(qubits))\n",
    "        circuit += entangling_layer(qubits)\n",
    "        # Encoding layer\n",
    "        circuit += cirq.Circuit(cirq.rx(inputs[l, i])(q) for i, q in enumerate(qubits))\n",
    "\n",
    "    # Last varitional layer\n",
    "    circuit += cirq.Circuit(one_qubit_rotation(q, params[n_layers, i]) for i,q in enumerate(qubits))\n",
    "\n",
    "    return circuit, list(params.flat), list(inputs.flat)"
   ]
  },
  {
   "cell_type": "code",
   "execution_count": 5,
   "id": "f10d4a1c-99bf-4a7f-9f1e-6b281fbadbb4",
   "metadata": {},
   "outputs": [
    {
     "name": "stderr",
     "output_type": "stream",
     "text": [
      "findfont: Font family 'Arial' not found.\n",
      "findfont: Font family 'Arial' not found.\n",
      "findfont: Font family 'Arial' not found.\n",
      "findfont: Font family 'Arial' not found.\n",
      "findfont: Font family 'Arial' not found.\n",
      "findfont: Font family 'Arial' not found.\n",
      "findfont: Font family 'Arial' not found.\n",
      "findfont: Font family 'Arial' not found.\n",
      "findfont: Font family 'Arial' not found.\n",
      "findfont: Font family 'Arial' not found.\n",
      "findfont: Font family 'Arial' not found.\n",
      "findfont: Font family 'Arial' not found.\n",
      "findfont: Font family 'Arial' not found.\n",
      "findfont: Font family 'Arial' not found.\n",
      "findfont: Font family 'Arial' not found.\n",
      "findfont: Font family 'Arial' not found.\n",
      "findfont: Font family 'Arial' not found.\n",
      "findfont: Font family 'Arial' not found.\n",
      "findfont: Font family 'Arial' not found.\n",
      "findfont: Font family 'Arial' not found.\n",
      "findfont: Font family 'Arial' not found.\n",
      "findfont: Font family 'Arial' not found.\n",
      "findfont: Font family 'Arial' not found.\n",
      "findfont: Font family 'Arial' not found.\n",
      "findfont: Font family 'Arial' not found.\n",
      "findfont: Font family 'Arial' not found.\n",
      "findfont: Font family 'Arial' not found.\n",
      "findfont: Font family 'Arial' not found.\n",
      "findfont: Font family 'Arial' not found.\n",
      "findfont: Font family 'Arial' not found.\n"
     ]
    },
    {
     "data": {
      "image/svg+xml": [
       "<svg xmlns=\"http://www.w3.org/2000/svg\" width=\"1016.1524609375002\" height=\"150.0\"><line x1=\"34.7588671875\" x2=\"986.1524609375002\" y1=\"25.0\" y2=\"25.0\" stroke=\"#1967d2\" stroke-width=\"1\" /><line x1=\"34.7588671875\" x2=\"986.1524609375002\" y1=\"75.0\" y2=\"75.0\" stroke=\"#1967d2\" stroke-width=\"1\" /><line x1=\"34.7588671875\" x2=\"986.1524609375002\" y1=\"125.0\" y2=\"125.0\" stroke=\"#1967d2\" stroke-width=\"1\" /><line x1=\"404.74449218750004\" x2=\"404.74449218750004\" y1=\"25.0\" y2=\"75.0\" stroke=\"black\" stroke-width=\"3\" /><line x1=\"464.74449218750004\" x2=\"464.74449218750004\" y1=\"75.0\" y2=\"125.0\" stroke=\"black\" stroke-width=\"3\" /><line x1=\"524.7444921875001\" x2=\"524.7444921875001\" y1=\"25.0\" y2=\"125.0\" stroke=\"black\" stroke-width=\"3\" /><rect x=\"10.0\" y=\"5.0\" width=\"49.517734375\" height=\"40\" stroke=\"black\" fill=\"white\" stroke-width=\"0\" /><text x=\"34.7588671875\" y=\"25.0\" dominant-baseline=\"middle\" text-anchor=\"middle\" font-size=\"14px\" font-family=\"Arial\">(0, 0): </text><rect x=\"10.0\" y=\"55.0\" width=\"49.517734375\" height=\"40\" stroke=\"black\" fill=\"white\" stroke-width=\"0\" /><text x=\"34.7588671875\" y=\"75.0\" dominant-baseline=\"middle\" text-anchor=\"middle\" font-size=\"14px\" font-family=\"Arial\">(0, 1): </text><rect x=\"10.0\" y=\"105.0\" width=\"49.517734375\" height=\"40\" stroke=\"black\" fill=\"white\" stroke-width=\"0\" /><text x=\"34.7588671875\" y=\"125.0\" dominant-baseline=\"middle\" text-anchor=\"middle\" font-size=\"14px\" font-family=\"Arial\">(0, 2): </text><rect x=\"79.517734375\" y=\"5.0\" width=\"82.31109375000001\" height=\"40\" stroke=\"black\" fill=\"white\" stroke-width=\"1\" /><text x=\"120.67328125\" y=\"25.0\" dominant-baseline=\"middle\" text-anchor=\"middle\" font-size=\"14px\" font-family=\"Arial\">Rx(theta0)</text><rect x=\"79.517734375\" y=\"55.0\" width=\"82.31109375000001\" height=\"40\" stroke=\"black\" fill=\"white\" stroke-width=\"1\" /><text x=\"120.67328125\" y=\"75.0\" dominant-baseline=\"middle\" text-anchor=\"middle\" font-size=\"14px\" font-family=\"Arial\">Rx(theta3)</text><rect x=\"79.517734375\" y=\"105.0\" width=\"82.31109375000001\" height=\"40\" stroke=\"black\" fill=\"white\" stroke-width=\"1\" /><text x=\"120.67328125\" y=\"125.0\" dominant-baseline=\"middle\" text-anchor=\"middle\" font-size=\"14px\" font-family=\"Arial\">Rx(theta6)</text><rect x=\"181.82882812500003\" y=\"5.0\" width=\"81.54109375\" height=\"40\" stroke=\"black\" fill=\"white\" stroke-width=\"1\" /><text x=\"222.59937500000004\" y=\"25.0\" dominant-baseline=\"middle\" text-anchor=\"middle\" font-size=\"14px\" font-family=\"Arial\">Ry(theta1)</text><rect x=\"181.82882812500003\" y=\"55.0\" width=\"81.54109375\" height=\"40\" stroke=\"black\" fill=\"white\" stroke-width=\"1\" /><text x=\"222.59937500000004\" y=\"75.0\" dominant-baseline=\"middle\" text-anchor=\"middle\" font-size=\"14px\" font-family=\"Arial\">Ry(theta4)</text><rect x=\"181.82882812500003\" y=\"105.0\" width=\"81.54109375\" height=\"40\" stroke=\"black\" fill=\"white\" stroke-width=\"1\" /><text x=\"222.59937500000004\" y=\"125.0\" dominant-baseline=\"middle\" text-anchor=\"middle\" font-size=\"14px\" font-family=\"Arial\">Ry(theta7)</text><rect x=\"283.36992187500005\" y=\"5.0\" width=\"81.37457031250001\" height=\"40\" stroke=\"black\" fill=\"white\" stroke-width=\"1\" /><text x=\"324.0572070312501\" y=\"25.0\" dominant-baseline=\"middle\" text-anchor=\"middle\" font-size=\"14px\" font-family=\"Arial\">Rz(theta2)</text><rect x=\"283.36992187500005\" y=\"55.0\" width=\"81.37457031250001\" height=\"40\" stroke=\"black\" fill=\"white\" stroke-width=\"1\" /><text x=\"324.0572070312501\" y=\"75.0\" dominant-baseline=\"middle\" text-anchor=\"middle\" font-size=\"14px\" font-family=\"Arial\">Rz(theta5)</text><rect x=\"283.36992187500005\" y=\"105.0\" width=\"81.37457031250001\" height=\"40\" stroke=\"black\" fill=\"white\" stroke-width=\"1\" /><text x=\"324.0572070312501\" y=\"125.0\" dominant-baseline=\"middle\" text-anchor=\"middle\" font-size=\"14px\" font-family=\"Arial\">Rz(theta8)</text><circle cx=\"404.74449218750004\" cy=\"25.0\" r=\"10.0\" /><circle cx=\"404.74449218750004\" cy=\"75.0\" r=\"10.0\" /><circle cx=\"464.74449218750004\" cy=\"75.0\" r=\"10.0\" /><circle cx=\"464.74449218750004\" cy=\"125.0\" r=\"10.0\" /><circle cx=\"524.7444921875001\" cy=\"25.0\" r=\"10.0\" /><circle cx=\"524.7444921875001\" cy=\"125.0\" r=\"10.0\" /><rect x=\"564.7444921875001\" y=\"5.0\" width=\"69.45953125\" height=\"40\" stroke=\"black\" fill=\"white\" stroke-width=\"1\" /><text x=\"599.4742578125001\" y=\"25.0\" dominant-baseline=\"middle\" text-anchor=\"middle\" font-size=\"14px\" font-family=\"Arial\">Rx(x0_0)</text><rect x=\"564.7444921875001\" y=\"55.0\" width=\"69.45953125\" height=\"40\" stroke=\"black\" fill=\"white\" stroke-width=\"1\" /><text x=\"599.4742578125001\" y=\"75.0\" dominant-baseline=\"middle\" text-anchor=\"middle\" font-size=\"14px\" font-family=\"Arial\">Rx(x0_1)</text><rect x=\"564.7444921875001\" y=\"105.0\" width=\"69.45953125\" height=\"40\" stroke=\"black\" fill=\"white\" stroke-width=\"1\" /><text x=\"599.4742578125001\" y=\"125.0\" dominant-baseline=\"middle\" text-anchor=\"middle\" font-size=\"14px\" font-family=\"Arial\">Rx(x0_2)</text><rect x=\"654.2040234375002\" y=\"5.0\" width=\"91.21832031250001\" height=\"40\" stroke=\"black\" fill=\"white\" stroke-width=\"1\" /><text x=\"699.8131835937502\" y=\"25.0\" dominant-baseline=\"middle\" text-anchor=\"middle\" font-size=\"14px\" font-family=\"Arial\">Rx(theta9)</text><rect x=\"654.2040234375002\" y=\"55.0\" width=\"91.21832031250001\" height=\"40\" stroke=\"black\" fill=\"white\" stroke-width=\"1\" /><text x=\"699.8131835937502\" y=\"75.0\" dominant-baseline=\"middle\" text-anchor=\"middle\" font-size=\"14px\" font-family=\"Arial\">Rx(theta12)</text><rect x=\"654.2040234375002\" y=\"105.0\" width=\"91.21832031250001\" height=\"40\" stroke=\"black\" fill=\"white\" stroke-width=\"1\" /><text x=\"699.8131835937502\" y=\"125.0\" dominant-baseline=\"middle\" text-anchor=\"middle\" font-size=\"14px\" font-family=\"Arial\">Rx(theta15)</text><rect x=\"765.4223437500002\" y=\"5.0\" width=\"90.4483203125\" height=\"40\" stroke=\"black\" fill=\"white\" stroke-width=\"1\" /><text x=\"810.6465039062502\" y=\"25.0\" dominant-baseline=\"middle\" text-anchor=\"middle\" font-size=\"14px\" font-family=\"Arial\">Ry(theta10)</text><rect x=\"765.4223437500002\" y=\"55.0\" width=\"90.4483203125\" height=\"40\" stroke=\"black\" fill=\"white\" stroke-width=\"1\" /><text x=\"810.6465039062502\" y=\"75.0\" dominant-baseline=\"middle\" text-anchor=\"middle\" font-size=\"14px\" font-family=\"Arial\">Ry(theta13)</text><rect x=\"765.4223437500002\" y=\"105.0\" width=\"90.4483203125\" height=\"40\" stroke=\"black\" fill=\"white\" stroke-width=\"1\" /><text x=\"810.6465039062502\" y=\"125.0\" dominant-baseline=\"middle\" text-anchor=\"middle\" font-size=\"14px\" font-family=\"Arial\">Ry(theta16)</text><rect x=\"875.8706640625002\" y=\"5.0\" width=\"90.28179687500001\" height=\"40\" stroke=\"black\" fill=\"white\" stroke-width=\"1\" /><text x=\"921.0115625000002\" y=\"25.0\" dominant-baseline=\"middle\" text-anchor=\"middle\" font-size=\"14px\" font-family=\"Arial\">Rz(theta11)</text><rect x=\"875.8706640625002\" y=\"55.0\" width=\"90.28179687500001\" height=\"40\" stroke=\"black\" fill=\"white\" stroke-width=\"1\" /><text x=\"921.0115625000002\" y=\"75.0\" dominant-baseline=\"middle\" text-anchor=\"middle\" font-size=\"14px\" font-family=\"Arial\">Rz(theta14)</text><rect x=\"875.8706640625002\" y=\"105.0\" width=\"90.28179687500001\" height=\"40\" stroke=\"black\" fill=\"white\" stroke-width=\"1\" /><text x=\"921.0115625000002\" y=\"125.0\" dominant-baseline=\"middle\" text-anchor=\"middle\" font-size=\"14px\" font-family=\"Arial\">Rz(theta17)</text></svg>"
      ],
      "text/plain": [
       "<cirq.contrib.svg.svg.SVGCircuit at 0x7981cc1b60d0>"
      ]
     },
     "execution_count": 5,
     "metadata": {},
     "output_type": "execute_result"
    }
   ],
   "source": [
    "n_qubits, n_layers = 3, 1\n",
    "qubits = cirq.GridQubit.rect(1, n_qubits)\n",
    "circuit, _, _ = generate_circuit(qubits, n_layers)\n",
    "SVGCircuit(circuit)"
   ]
  },
  {
   "cell_type": "code",
   "execution_count": 6,
   "id": "8993d45c-1fb9-45dd-ba06-64d52b505296",
   "metadata": {},
   "outputs": [],
   "source": [
    "class ReUploadingPQC(tf.keras.layers.Layer):\n",
    "    \"\"\"\n",
    "    Performs the transformation (s_1, ..., s_d) -> (theta_1, ..., theta_N, lmbd[1][1]s_1, ..., lmbd[1][M]s_1,\n",
    "        ......., lmbd[d][1]s_d, ..., lmbd[d][M]s_d) for d=input_dim, N=theta_dim and M=n_layers.\n",
    "    An activation function from tf.keras.activations, specified by `activation` ('linear' by default) is\n",
    "        then applied to all lmbd[i][j]s_i.\n",
    "    All angles are finally permuted to follow the alphabetical order of their symbol names, as processed\n",
    "        by the ControlledPQC.\n",
    "    \"\"\"\n",
    "\n",
    "    def __init__(self, qubits, n_layers, observables, activation=\"linear\", name=\"re-uploading_PQC\"):\n",
    "        super(ReUploadingPQC, self).__init__(name=name)\n",
    "        self.n_layers = n_layers\n",
    "        self.n_qubits = len(qubits)\n",
    "\n",
    "        circuit, theta_symbols, input_symbols = generate_circuit(qubits, n_layers)\n",
    "\n",
    "        theta_init = tf.random_uniform_initializer(minval=0.0, maxval=np.pi)\n",
    "        self.theta = tf.Variable(\n",
    "            initial_value=theta_init(shape=(1, len(theta_symbols)), dtype=\"float32\"),\n",
    "            trainable=True, name=\"thetas\"\n",
    "        )\n",
    "\n",
    "        lmbd_init = tf.ones(shape=(self.n_qubits * self.n_layers,))\n",
    "        self.lmbd = tf.Variable(\n",
    "            initial_value=lmbd_init, dtype=\"float32\", trainable=True, name=\"lambdas\"\n",
    "        )\n",
    "\n",
    "        # Define explicit symbol order.\n",
    "        symbols = [str(symb) for symb in theta_symbols + input_symbols]\n",
    "        self.indices = tf.constant([symbols.index(a) for a in sorted(symbols)])\n",
    "\n",
    "        self.activation = activation\n",
    "        self.empty_circuit = tfq.convert_to_tensor([cirq.Circuit()])\n",
    "        self.computation_layer = tfq.layers.ControlledPQC(circuit, observables)        \n",
    "\n",
    "    def call(self, inputs):\n",
    "        # inputs[0] = encoding data for the state.\n",
    "        batch_dim = tf.gather(tf.shape(inputs[0]), 0)\n",
    "        tiled_up_circuits = tf.repeat(self.empty_circuit, repeats=batch_dim)\n",
    "        tiled_up_thetas = tf.tile(self.theta, multiples=[batch_dim, 1])\n",
    "        tiled_up_inputs = tf.tile(inputs[0], multiples=[1, self.n_layers])\n",
    "        scaled_inputs = tf.einsum(\"i,ji->ji\", self.lmbd, tiled_up_inputs)\n",
    "        squashed_inputs = tf.keras.layers.Activation(self.activation)(scaled_inputs)\n",
    "\n",
    "        joined_vars = tf.concat([tiled_up_thetas, squashed_inputs], axis=1)\n",
    "        joined_vars = tf.gather(joined_vars, self.indices, axis=1)\n",
    "\n",
    "        return self.computation_layer([tiled_up_circuits, joined_vars])"
   ]
  },
  {
   "cell_type": "markdown",
   "id": "692d963a-9743-4a8b-b984-f21ddbc122d1",
   "metadata": {},
   "source": [
    "### 2. Policy Gradient RL with PQC policies"
   ]
  },
  {
   "cell_type": "code",
   "execution_count": 7,
   "id": "8ab1e036-8118-4aeb-ad6c-88b5ce0d8300",
   "metadata": {},
   "outputs": [],
   "source": [
    "class Alternating(tf.keras.layers.Layer):\n",
    "    def __init__(self, output_dim):\n",
    "        super(Alternating, self).__init__()\n",
    "        self.w = tf.Variable(\n",
    "            initial_value=tf.constant([[(-1.)**i for i in range(output_dim)]]), dtype=\"float32\",\n",
    "            trainable=True, name=\"obs-weights\")\n",
    "\n",
    "    def call(self, inputs):\n",
    "        return tf.matmul(inputs, self.w)"
   ]
  },
  {
   "cell_type": "code",
   "execution_count": 8,
   "id": "801856ac-688e-4362-bb78-af7ab0a49375",
   "metadata": {},
   "outputs": [],
   "source": [
    "n_qubits = 4 # Dimension of the state vectors in CartPole\n",
    "n_layers = 5 # Number of layers in the PQC\n",
    "n_actions = 2 # Number of actions in CartPole\n",
    "\n",
    "qubits = cirq.GridQubit.rect(1, n_qubits)"
   ]
  },
  {
   "cell_type": "code",
   "execution_count": 9,
   "id": "035e86ac-c9a4-43c0-b41b-31ae302c68e3",
   "metadata": {},
   "outputs": [],
   "source": [
    "ops = [cirq.Z(q) for q in qubits]\n",
    "observables = [reduce((lambda x, y: x * y), ops)] # Z_0*Z_1*Z_2*Z_3"
   ]
  },
  {
   "cell_type": "code",
   "execution_count": 10,
   "id": "141a49f6-5adf-4223-90d1-eb5c7c36e8d0",
   "metadata": {},
   "outputs": [],
   "source": [
    "def generate_model_policy(qubits, n_layers, n_actions, beta, observables):\n",
    "    \"\"\"Generates a Keras model for a data re-uploading PQC policy.\"\"\"\n",
    "\n",
    "    input_tensor = tf.keras.Input(shape=(len(qubits), ), dtype=tf.dtypes.float32, name='input')\n",
    "    re_uploading_pqc = ReUploadingPQC(qubits, n_layers, observables)([input_tensor])\n",
    "    process = tf.keras.Sequential([\n",
    "        Alternating(n_actions),\n",
    "        tf.keras.layers.Lambda(lambda x: x * beta),\n",
    "        tf.keras.layers.Softmax()\n",
    "    ], name=\"observables-policy\")\n",
    "    policy = process(re_uploading_pqc)\n",
    "    model = tf.keras.Model(inputs=[input_tensor], outputs=policy)\n",
    "\n",
    "    return model\n",
    "\n",
    "model = generate_model_policy(qubits, n_layers, n_actions, 1.0, observables)"
   ]
  },
  {
   "cell_type": "code",
   "execution_count": 11,
   "id": "b5579a85-a352-4ca1-aac6-8bb4d79f19fa",
   "metadata": {},
   "outputs": [
    {
     "data": {
      "image/png": "[encoded data removed]",
      "text/plain": [
       "<IPython.core.display.Image object>"
      ]
     },
     "execution_count": 11,
     "metadata": {},
     "output_type": "execute_result"
    }
   ],
   "source": [
    "tf.keras.utils.plot_model(model, show_shapes=True, dpi=70)"
   ]
  },
  {
   "cell_type": "code",
   "execution_count": 12,
   "id": "8dfb21ee-c09a-44bf-8b1f-35f499b944b7",
   "metadata": {},
   "outputs": [],
   "source": [
    "def gather_episodes(state_bounds, n_actions, model, n_episodes, env_name):\n",
    "    \"\"\"Interact with environment in batched fashion.\"\"\"\n",
    "\n",
    "    trajectories = [defaultdict(list) for _ in range(n_episodes)]\n",
    "    envs = [gym.make(env_name) for _ in range(n_episodes)]\n",
    "\n",
    "    done = [False for _ in range(n_episodes)]\n",
    "    states = [e.reset() for e in envs]\n",
    "\n",
    "    while not all(done):\n",
    "        unfinished_ids = [i for i in range(n_episodes) if not done[i]]\n",
    "        normalized_states = [s/state_bounds for i, s in enumerate(states) if not done[i]]\n",
    "\n",
    "        for i, state in zip(unfinished_ids, normalized_states):\n",
    "            trajectories[i]['states'].append(state)\n",
    "\n",
    "        # Compute policy for all unfinished envs in parallel\n",
    "        states = tf.convert_to_tensor(normalized_states)\n",
    "        action_probs = model([states])\n",
    "\n",
    "        # Store action and transition all environments to the next state\n",
    "        states = [None for i in range(n_episodes)]\n",
    "        for i, policy in zip(unfinished_ids, action_probs.numpy()):\n",
    "            action = np.random.choice(n_actions, p=policy)\n",
    "            states[i], reward, done[i], _ = envs[i].step(action)\n",
    "            trajectories[i]['actions'].append(action)\n",
    "            trajectories[i]['rewards'].append(reward)\n",
    "\n",
    "    return trajectories"
   ]
  },
  {
   "cell_type": "code",
   "execution_count": 13,
   "id": "d7330b96-8765-4606-9ec7-4cd9e9f77d79",
   "metadata": {},
   "outputs": [],
   "source": [
    "def compute_returns(rewards_history, gamma):\n",
    "    \"\"\"Compute discounted returns with discount factor `gamma`.\"\"\"\n",
    "    returns = []\n",
    "    discounted_sum = 0\n",
    "    for r in rewards_history[::-1]:\n",
    "        discounted_sum = r + gamma * discounted_sum\n",
    "        returns.insert(0, discounted_sum)\n",
    "\n",
    "    # Normalize them for faster and more stable learning\n",
    "    returns = np.array(returns)\n",
    "    returns = (returns - np.mean(returns)) / (np.std(returns) + 1e-8)\n",
    "    returns = returns.tolist()\n",
    "\n",
    "    return returns"
   ]
  },
  {
   "cell_type": "code",
   "execution_count": 14,
   "id": "2e0d21bc-5ed3-4844-b1f8-a5529b6bac2f",
   "metadata": {},
   "outputs": [],
   "source": [
    "state_bounds = np.array([2.4, 2.5, 0.21, 2.5])\n",
    "gamma = 1\n",
    "batch_size = 10\n",
    "n_episodes = 1000"
   ]
  },
  {
   "cell_type": "code",
   "execution_count": 15,
   "id": "047eb036-4c41-4183-9cb3-58953735d9a4",
   "metadata": {},
   "outputs": [],
   "source": [
    "optimizer_in = tf.keras.optimizers.Adam(learning_rate=0.1, amsgrad=True)\n",
    "optimizer_var = tf.keras.optimizers.Adam(learning_rate=0.01, amsgrad=True)\n",
    "optimizer_out = tf.keras.optimizers.Adam(learning_rate=0.1, amsgrad=True)\n",
    "\n",
    "# Assign the model parameters to each optimizer\n",
    "w_in, w_var, w_out = 1, 0, 2"
   ]
  },
  {
   "cell_type": "code",
   "execution_count": 16,
   "id": "7c0dbec5-9dd3-4e79-b360-c606819f18e3",
   "metadata": {},
   "outputs": [],
   "source": [
    "@tf.function\n",
    "def reinforce_update(states, actions, returns, model):\n",
    "    states = tf.convert_to_tensor(states)\n",
    "    actions = tf.convert_to_tensor(actions)\n",
    "    returns = tf.convert_to_tensor(returns)\n",
    "\n",
    "    with tf.GradientTape() as tape:\n",
    "        tape.watch(model.trainable_variables)\n",
    "        logits = model(states)\n",
    "        p_actions = tf.gather_nd(logits, actions)\n",
    "        log_probs = tf.math.log(p_actions)\n",
    "        loss = tf.math.reduce_sum(-log_probs * returns) / batch_size\n",
    "    grads = tape.gradient(loss, model.trainable_variables)\n",
    "    for optimizer, w in zip([optimizer_in, optimizer_var, optimizer_out], [w_in, w_var, w_out]):\n",
    "        optimizer.apply_gradients([(grads[w], model.trainable_variables[w])])"
   ]
  },
  {
   "cell_type": "code",
   "execution_count": 17,
   "id": "67c8470a-68e5-4907-961f-d0dd1093e2ca",
   "metadata": {},
   "outputs": [
    {
     "name": "stdout",
     "output_type": "stream",
     "text": [
      "Finished episode 10 Average rewards:  16.6\n",
      "Finished episode 20 Average rewards:  21.3\n",
      "Finished episode 30 Average rewards:  30.4\n",
      "Finished episode 40 Average rewards:  23.7\n",
      "Finished episode 50 Average rewards:  27.3\n",
      "Finished episode 60 Average rewards:  38.7\n",
      "Finished episode 70 Average rewards:  44.1\n",
      "Finished episode 80 Average rewards:  57.0\n",
      "Finished episode 90 Average rewards:  82.3\n",
      "Finished episode 100 Average rewards:  57.3\n",
      "Finished episode 110 Average rewards:  112.1\n",
      "Finished episode 120 Average rewards:  132.7\n",
      "Finished episode 130 Average rewards:  220.7\n",
      "Finished episode 140 Average rewards:  241.5\n",
      "Finished episode 150 Average rewards:  346.6\n",
      "Finished episode 160 Average rewards:  401.2\n",
      "Finished episode 170 Average rewards:  441.6\n",
      "Finished episode 180 Average rewards:  469.1\n",
      "Finished episode 190 Average rewards:  362.8\n",
      "Finished episode 200 Average rewards:  360.1\n",
      "Finished episode 210 Average rewards:  272.8\n",
      "Finished episode 220 Average rewards:  228.9\n",
      "Finished episode 230 Average rewards:  241.2\n",
      "Finished episode 240 Average rewards:  219.7\n",
      "Finished episode 250 Average rewards:  197.9\n",
      "Finished episode 260 Average rewards:  198.8\n",
      "Finished episode 270 Average rewards:  195.6\n",
      "Finished episode 280 Average rewards:  177.5\n",
      "Finished episode 290 Average rewards:  152.7\n",
      "Finished episode 300 Average rewards:  148.8\n",
      "Finished episode 310 Average rewards:  140.0\n",
      "Finished episode 320 Average rewards:  133.1\n",
      "Finished episode 330 Average rewards:  117.2\n",
      "Finished episode 340 Average rewards:  109.6\n",
      "Finished episode 350 Average rewards:  104.7\n",
      "Finished episode 360 Average rewards:  97.5\n",
      "Finished episode 370 Average rewards:  105.6\n",
      "Finished episode 380 Average rewards:  102.7\n",
      "Finished episode 390 Average rewards:  102.6\n",
      "Finished episode 400 Average rewards:  118.1\n",
      "Finished episode 410 Average rewards:  116.1\n",
      "Finished episode 420 Average rewards:  127.4\n",
      "Finished episode 430 Average rewards:  135.9\n",
      "Finished episode 440 Average rewards:  140.1\n",
      "Finished episode 450 Average rewards:  137.8\n",
      "Finished episode 460 Average rewards:  159.8\n",
      "Finished episode 470 Average rewards:  173.7\n",
      "Finished episode 480 Average rewards:  180.1\n",
      "Finished episode 490 Average rewards:  189.6\n",
      "Finished episode 500 Average rewards:  214.7\n",
      "Finished episode 510 Average rewards:  245.4\n",
      "Finished episode 520 Average rewards:  275.2\n",
      "Finished episode 530 Average rewards:  250.8\n",
      "Finished episode 540 Average rewards:  332.1\n",
      "Finished episode 550 Average rewards:  420.3\n",
      "Finished episode 560 Average rewards:  362.1\n",
      "Finished episode 570 Average rewards:  220.9\n",
      "Finished episode 580 Average rewards:  216.5\n",
      "Finished episode 590 Average rewards:  166.2\n",
      "Finished episode 600 Average rewards:  153.6\n",
      "Finished episode 610 Average rewards:  95.8\n",
      "Finished episode 620 Average rewards:  85.0\n",
      "Finished episode 630 Average rewards:  115.6\n",
      "Finished episode 640 Average rewards:  98.3\n",
      "Finished episode 650 Average rewards:  79.6\n",
      "Finished episode 660 Average rewards:  109.4\n",
      "Finished episode 670 Average rewards:  80.2\n",
      "Finished episode 680 Average rewards:  93.7\n",
      "Finished episode 690 Average rewards:  134.1\n",
      "Finished episode 700 Average rewards:  139.6\n",
      "Finished episode 710 Average rewards:  134.1\n",
      "Finished episode 720 Average rewards:  138.1\n",
      "Finished episode 730 Average rewards:  161.3\n",
      "Finished episode 740 Average rewards:  159.3\n",
      "Finished episode 750 Average rewards:  180.8\n",
      "Finished episode 760 Average rewards:  184.1\n",
      "Finished episode 770 Average rewards:  187.0\n",
      "Finished episode 780 Average rewards:  193.7\n",
      "Finished episode 790 Average rewards:  206.9\n",
      "Finished episode 800 Average rewards:  208.1\n",
      "Finished episode 810 Average rewards:  222.3\n",
      "Finished episode 820 Average rewards:  227.5\n",
      "Finished episode 830 Average rewards:  234.0\n",
      "Finished episode 840 Average rewards:  246.7\n",
      "Finished episode 850 Average rewards:  277.3\n",
      "Finished episode 860 Average rewards:  396.0\n",
      "Finished episode 870 Average rewards:  459.5\n",
      "Finished episode 880 Average rewards:  500.0\n"
     ]
    }
   ],
   "source": [
    "env_name = \"CartPole-v1\"\n",
    "\n",
    "# Start training the agent\n",
    "episode_reward_history = []\n",
    "for batch in range(n_episodes // batch_size):\n",
    "    # Gather episodes\n",
    "    episodes = gather_episodes(state_bounds, n_actions, model, batch_size, env_name)\n",
    "\n",
    "    # Group states, actions and returns in numpy arrays\n",
    "    states = np.concatenate([ep['states'] for ep in episodes])\n",
    "    actions = np.concatenate([ep['actions'] for ep in episodes])\n",
    "    rewards = [ep['rewards'] for ep in episodes]\n",
    "    returns = np.concatenate([compute_returns(ep_rwds, gamma) for ep_rwds in rewards])\n",
    "    returns = np.array(returns, dtype=np.float32)\n",
    "\n",
    "    id_action_pairs = np.array([[i, a] for i, a in enumerate(actions)])\n",
    "\n",
    "    # Update model parameters.\n",
    "    reinforce_update(states, id_action_pairs, returns, model)\n",
    "\n",
    "    # Store collected rewards\n",
    "    for ep_rwds in rewards:\n",
    "        episode_reward_history.append(np.sum(ep_rwds))\n",
    "\n",
    "    avg_rewards = np.mean(episode_reward_history[-10:])\n",
    "\n",
    "    print('Finished episode', (batch + 1) * batch_size,\n",
    "          'Average rewards: ', avg_rewards)\n",
    "\n",
    "    if avg_rewards >= 500.0:\n",
    "        break"
   ]
  },
  {
   "cell_type": "code",
   "execution_count": 18,
   "id": "4a5ce8b6-8504-4cde-b1c3-88351d4a8275",
   "metadata": {},
   "outputs": [
    {
     "data": {
      "image/png": "[encoded data removed]",
      "text/plain": [
       "<Figure size 1000x500 with 1 Axes>"
      ]
     },
     "metadata": {},
     "output_type": "display_data"
    }
   ],
   "source": [
    "plt.figure(figsize=(10,5))\n",
    "plt.plot(episode_reward_history)\n",
    "plt.xlabel('Epsiode')\n",
    "plt.ylabel('Collected rewards')\n",
    "plt.show()"
   ]
  },
  {
   "cell_type": "code",
   "execution_count": 1,
   "id": "995a02ac-4bbd-4d87-8f4b-744999a177b1",
   "metadata": {},
   "outputs": [
    {
     "name": "stdout",
     "output_type": "stream",
     "text": [
      "env: DISPLAY=:99\n"
     ]
    }
   ],
   "source": [
    "%env DISPLAY=:99\n"
   ]
  },
  {
   "cell_type": "code",
   "execution_count": 6,
   "id": "06d9bad2-4045-47b4-810b-9e3c2cabad30",
   "metadata": {},
   "outputs": [
    {
     "ename": "NameError",
     "evalue": "name 'base' is not defined",
     "output_type": "error",
     "traceback": [
      "\u001b[0;31m---------------------------------------------------------------------------\u001b[0m",
      "\u001b[0;31mNameError\u001b[0m                                 Traceback (most recent call last)",
      "Cell \u001b[0;32mIn[6], line 9\u001b[0m\n\u001b[1;32m      7\u001b[0m frames \u001b[38;5;241m=\u001b[39m []\n\u001b[1;32m      8\u001b[0m \u001b[38;5;28;01mfor\u001b[39;00m t \u001b[38;5;129;01min\u001b[39;00m \u001b[38;5;28mrange\u001b[39m(\u001b[38;5;241m500\u001b[39m):\n\u001b[0;32m----> 9\u001b[0m     im \u001b[38;5;241m=\u001b[39m Image\u001b[38;5;241m.\u001b[39mfromarray(\u001b[43menv\u001b[49m\u001b[38;5;241;43m.\u001b[39;49m\u001b[43mrender\u001b[49m\u001b[43m(\u001b[49m\u001b[43mmode\u001b[49m\u001b[38;5;241;43m=\u001b[39;49m\u001b[38;5;28;43;01mNone\u001b[39;49;00m\u001b[43m)\u001b[49m)\n\u001b[1;32m     10\u001b[0m     frames\u001b[38;5;241m.\u001b[39mappend(im)\n\u001b[1;32m     11\u001b[0m     policy \u001b[38;5;241m=\u001b[39m model([tf\u001b[38;5;241m.\u001b[39mconvert_to_tensor([state\u001b[38;5;241m/\u001b[39mstate_bounds])])\n",
      "File \u001b[0;32m~/quantum/gym/gym/core.py:240\u001b[0m, in \u001b[0;36mWrapper.render\u001b[0;34m(self, mode, **kwargs)\u001b[0m\n\u001b[1;32m    239\u001b[0m \u001b[38;5;28;01mdef\u001b[39;00m \u001b[38;5;21mrender\u001b[39m(\u001b[38;5;28mself\u001b[39m, mode\u001b[38;5;241m=\u001b[39m\u001b[38;5;124m'\u001b[39m\u001b[38;5;124mhuman\u001b[39m\u001b[38;5;124m'\u001b[39m, \u001b[38;5;241m*\u001b[39m\u001b[38;5;241m*\u001b[39mkwargs):\n\u001b[0;32m--> 240\u001b[0m     \u001b[38;5;28;01mreturn\u001b[39;00m \u001b[38;5;28;43mself\u001b[39;49m\u001b[38;5;241;43m.\u001b[39;49m\u001b[43menv\u001b[49m\u001b[38;5;241;43m.\u001b[39;49m\u001b[43mrender\u001b[49m\u001b[43m(\u001b[49m\u001b[43mmode\u001b[49m\u001b[43m,\u001b[49m\u001b[43m \u001b[49m\u001b[38;5;241;43m*\u001b[39;49m\u001b[38;5;241;43m*\u001b[39;49m\u001b[43mkwargs\u001b[49m\u001b[43m)\u001b[49m\n",
      "File \u001b[0;32m~/quantum/gym/gym/envs/classic_control/cartpole.py:174\u001b[0m, in \u001b[0;36mCartPoleEnv.render\u001b[0;34m(self, mode)\u001b[0m\n\u001b[1;32m    171\u001b[0m cartheight \u001b[38;5;241m=\u001b[39m \u001b[38;5;241m30.0\u001b[39m\n\u001b[1;32m    173\u001b[0m \u001b[38;5;28;01mif\u001b[39;00m \u001b[38;5;28mself\u001b[39m\u001b[38;5;241m.\u001b[39mviewer \u001b[38;5;129;01mis\u001b[39;00m \u001b[38;5;28;01mNone\u001b[39;00m:\n\u001b[0;32m--> 174\u001b[0m     \u001b[38;5;28;01mfrom\u001b[39;00m \u001b[38;5;21;01mgym\u001b[39;00m\u001b[38;5;21;01m.\u001b[39;00m\u001b[38;5;21;01menvs\u001b[39;00m\u001b[38;5;21;01m.\u001b[39;00m\u001b[38;5;21;01mclassic_control\u001b[39;00m \u001b[38;5;28;01mimport\u001b[39;00m rendering\n\u001b[1;32m    175\u001b[0m     \u001b[38;5;28mself\u001b[39m\u001b[38;5;241m.\u001b[39mviewer \u001b[38;5;241m=\u001b[39m rendering\u001b[38;5;241m.\u001b[39mViewer(screen_width, screen_height)\n\u001b[1;32m    176\u001b[0m     l, r, t, b \u001b[38;5;241m=\u001b[39m \u001b[38;5;241m-\u001b[39mcartwidth \u001b[38;5;241m/\u001b[39m \u001b[38;5;241m2\u001b[39m, cartwidth \u001b[38;5;241m/\u001b[39m \u001b[38;5;241m2\u001b[39m, cartheight \u001b[38;5;241m/\u001b[39m \u001b[38;5;241m2\u001b[39m, \u001b[38;5;241m-\u001b[39mcartheight \u001b[38;5;241m/\u001b[39m \u001b[38;5;241m2\u001b[39m\n",
      "File \u001b[0;32m~/quantum/gym/gym/envs/classic_control/rendering.py:25\u001b[0m\n\u001b[1;32m     17\u001b[0m     \u001b[38;5;28;01mraise\u001b[39;00m \u001b[38;5;167;01mImportError\u001b[39;00m(\u001b[38;5;124m'''\u001b[39m\n\u001b[1;32m     18\u001b[0m \u001b[38;5;124m    Cannot import pyglet.\u001b[39m\n\u001b[1;32m     19\u001b[0m \u001b[38;5;124m    HINT: you can install pyglet directly via \u001b[39m\u001b[38;5;124m'\u001b[39m\u001b[38;5;124mpip install pyglet\u001b[39m\u001b[38;5;124m'\u001b[39m\u001b[38;5;124m.\u001b[39m\n\u001b[1;32m     20\u001b[0m \u001b[38;5;124m    But if you really just want to install all Gym dependencies and not have to think about it,\u001b[39m\n\u001b[1;32m     21\u001b[0m \u001b[38;5;124m    \u001b[39m\u001b[38;5;124m'\u001b[39m\u001b[38;5;124mpip install -e .[all]\u001b[39m\u001b[38;5;124m'\u001b[39m\u001b[38;5;124m or \u001b[39m\u001b[38;5;124m'\u001b[39m\u001b[38;5;124mpip install gym[all]\u001b[39m\u001b[38;5;124m'\u001b[39m\u001b[38;5;124m will do it.\u001b[39m\n\u001b[1;32m     22\u001b[0m \u001b[38;5;124m    \u001b[39m\u001b[38;5;124m'''\u001b[39m)\n\u001b[1;32m     24\u001b[0m \u001b[38;5;28;01mtry\u001b[39;00m:\n\u001b[0;32m---> 25\u001b[0m     \u001b[38;5;28;01mfrom\u001b[39;00m \u001b[38;5;21;01mpyglet\u001b[39;00m\u001b[38;5;21;01m.\u001b[39;00m\u001b[38;5;21;01mgl\u001b[39;00m \u001b[38;5;28;01mimport\u001b[39;00m \u001b[38;5;241m*\u001b[39m\n\u001b[1;32m     26\u001b[0m \u001b[38;5;28;01mexcept\u001b[39;00m \u001b[38;5;167;01mImportError\u001b[39;00m \u001b[38;5;28;01mas\u001b[39;00m e:\n\u001b[1;32m     27\u001b[0m     \u001b[38;5;28;01mraise\u001b[39;00m \u001b[38;5;167;01mImportError\u001b[39;00m(\u001b[38;5;124m'''\u001b[39m\n\u001b[1;32m     28\u001b[0m \u001b[38;5;124m    Error occurred while running `from pyglet.gl import *`\u001b[39m\n\u001b[1;32m     29\u001b[0m \u001b[38;5;124m    HINT: make sure you have OpenGL install. On Ubuntu, you can run \u001b[39m\u001b[38;5;124m'\u001b[39m\u001b[38;5;124mapt-get install python-opengl\u001b[39m\u001b[38;5;124m'\u001b[39m\u001b[38;5;124m.\u001b[39m\n\u001b[1;32m     30\u001b[0m \u001b[38;5;124m    If you\u001b[39m\u001b[38;5;124m'\u001b[39m\u001b[38;5;124mre running on a server, you may need a virtual frame buffer; something like this should work:\u001b[39m\n\u001b[1;32m     31\u001b[0m \u001b[38;5;124m    \u001b[39m\u001b[38;5;124m'\u001b[39m\u001b[38;5;124mxvfb-run -s \u001b[39m\u001b[38;5;130;01m\\\"\u001b[39;00m\u001b[38;5;124m-screen 0 1400x900x24\u001b[39m\u001b[38;5;130;01m\\\"\u001b[39;00m\u001b[38;5;124m python <your_script.py>\u001b[39m\u001b[38;5;124m'\u001b[39m\n\u001b[1;32m     32\u001b[0m \u001b[38;5;124m    \u001b[39m\u001b[38;5;124m'''\u001b[39m)\n",
      "File \u001b[0;32m~/miniconda3/envs/tfq_env/lib/python3.8/site-packages/pyglet/gl/__init__.py:235\u001b[0m\n\u001b[1;32m    233\u001b[0m \u001b[38;5;28;01melif\u001b[39;00m compat_platform \u001b[38;5;241m==\u001b[39m \u001b[38;5;124m'\u001b[39m\u001b[38;5;124mdarwin\u001b[39m\u001b[38;5;124m'\u001b[39m:\n\u001b[1;32m    234\u001b[0m     \u001b[38;5;28;01mfrom\u001b[39;00m \u001b[38;5;21;01m.\u001b[39;00m\u001b[38;5;21;01mcocoa\u001b[39;00m \u001b[38;5;28;01mimport\u001b[39;00m CocoaConfig \u001b[38;5;28;01mas\u001b[39;00m Config\n\u001b[0;32m--> 235\u001b[0m \u001b[38;5;28;01mdel\u001b[39;00m base  \u001b[38;5;66;03m# noqa: F821\u001b[39;00m\n\u001b[1;32m    238\u001b[0m _shadow_window \u001b[38;5;241m=\u001b[39m \u001b[38;5;28;01mNone\u001b[39;00m\n\u001b[1;32m    240\u001b[0m \u001b[38;5;66;03m# Import pyglet.window now if it isn't currently being imported (this creates the shadow window).\u001b[39;00m\n",
      "\u001b[0;31mNameError\u001b[0m: name 'base' is not defined"
     ]
    }
   ],
   "source": [
    "from PIL import Image\n",
    "import pyglet \n",
    "#import pyglet.window\n",
    "\n",
    "env = gym.make('CartPole-v1')\n",
    "state = env.reset()\n",
    "frames = []\n",
    "for t in range(500):\n",
    "    im = Image.fromarray(env.render(mode='rgb_array'))\n",
    "    frames.append(im)\n",
    "    policy = model([tf.convert_to_tensor([state/state_bounds])])\n",
    "    action = np.random.choice(n_actions, p=policy.numpy()[0])\n",
    "    state, _, done, _ = env.step(action)\n",
    "    if done:\n",
    "        break\n",
    "env.close()\n",
    "frames[1].save('./images/gym_CartPole.gif',\n",
    "               save_all=True, append_images=frames[2:], optimize=False, duration=40, loop=0)"
   ]
  },
  {
   "cell_type": "code",
   "execution_count": 3,
   "id": "a04e507a-26b0-4607-923e-936f2619b952",
   "metadata": {},
   "outputs": [
    {
     "name": "stderr",
     "output_type": "stream",
     "text": [
      "libGL error: MESA-LOADER: failed to open iris: /home/arshia/miniconda3/envs/tfq_env/bin/../lib/libstdc++.so.6: version `GLIBCXX_3.4.30' not found (required by /lib/x86_64-linux-gnu/libLLVM-15.so.1) (search paths /usr/lib/x86_64-linux-gnu/dri, suffix _dri)\n",
      "libGL error: failed to load driver: iris\n",
      "libGL error: MESA-LOADER: failed to open swrast: /home/arshia/miniconda3/envs/tfq_env/bin/../lib/libstdc++.so.6: version `GLIBCXX_3.4.30' not found (required by /lib/x86_64-linux-gnu/libLLVM-15.so.1) (search paths /usr/lib/x86_64-linux-gnu/dri, suffix _dri)\n",
      "libGL error: failed to load driver: swrast\n"
     ]
    },
    {
     "ename": "ContextException",
     "evalue": "Could not create GL context",
     "output_type": "error",
     "traceback": [
      "\u001b[0;31m---------------------------------------------------------------------------\u001b[0m",
      "\u001b[0;31mContextException\u001b[0m                          Traceback (most recent call last)",
      "Cell \u001b[0;32mIn[3], line 21\u001b[0m\n\u001b[1;32m     17\u001b[0m frames \u001b[38;5;241m=\u001b[39m []\n\u001b[1;32m     19\u001b[0m \u001b[38;5;28;01mfor\u001b[39;00m t \u001b[38;5;129;01min\u001b[39;00m \u001b[38;5;28mrange\u001b[39m(\u001b[38;5;241m500\u001b[39m):\n\u001b[1;32m     20\u001b[0m     \u001b[38;5;66;03m# Get the RGB array representation of the environment state\u001b[39;00m\n\u001b[0;32m---> 21\u001b[0m     rgb_array \u001b[38;5;241m=\u001b[39m \u001b[43menv\u001b[49m\u001b[38;5;241;43m.\u001b[39;49m\u001b[43mrender\u001b[49m\u001b[43m(\u001b[49m\u001b[43mmode\u001b[49m\u001b[38;5;241;43m=\u001b[39;49m\u001b[38;5;124;43m'\u001b[39;49m\u001b[38;5;124;43mrgb_array\u001b[39;49m\u001b[38;5;124;43m'\u001b[39;49m\u001b[43m)\u001b[49m\n\u001b[1;32m     22\u001b[0m     frames\u001b[38;5;241m.\u001b[39mappend(Image\u001b[38;5;241m.\u001b[39mfromarray(rgb_array))\n\u001b[1;32m     24\u001b[0m     \u001b[38;5;66;03m# Your existing policy code\u001b[39;00m\n",
      "Cell \u001b[0;32mIn[3], line 10\u001b[0m, in \u001b[0;36mDummyEnv.render\u001b[0;34m(self, mode, **kwargs)\u001b[0m\n\u001b[1;32m      8\u001b[0m \u001b[38;5;28;01mdef\u001b[39;00m \u001b[38;5;21mrender\u001b[39m(\u001b[38;5;28mself\u001b[39m, mode\u001b[38;5;241m=\u001b[39m\u001b[38;5;124m'\u001b[39m\u001b[38;5;124mhuman\u001b[39m\u001b[38;5;124m'\u001b[39m, \u001b[38;5;241m*\u001b[39m\u001b[38;5;241m*\u001b[39mkwargs):\n\u001b[1;32m      9\u001b[0m     \u001b[38;5;28;01mif\u001b[39;00m mode \u001b[38;5;241m==\u001b[39m \u001b[38;5;124m'\u001b[39m\u001b[38;5;124mrgb_array\u001b[39m\u001b[38;5;124m'\u001b[39m:\n\u001b[0;32m---> 10\u001b[0m         \u001b[38;5;28;01mreturn\u001b[39;00m \u001b[38;5;28;43msuper\u001b[39;49m\u001b[43m(\u001b[49m\u001b[43m)\u001b[49m\u001b[38;5;241;43m.\u001b[39;49m\u001b[43mrender\u001b[49m\u001b[43m(\u001b[49m\u001b[43mmode\u001b[49m\u001b[38;5;241;43m=\u001b[39;49m\u001b[43mmode\u001b[49m\u001b[43m,\u001b[49m\u001b[43m \u001b[49m\u001b[38;5;241;43m*\u001b[39;49m\u001b[38;5;241;43m*\u001b[39;49m\u001b[43mkwargs\u001b[49m\u001b[43m)\u001b[49m\n\u001b[1;32m     11\u001b[0m     \u001b[38;5;28;01melse\u001b[39;00m:\n\u001b[1;32m     12\u001b[0m         \u001b[38;5;28;01mreturn\u001b[39;00m np\u001b[38;5;241m.\u001b[39marray([])\n",
      "File \u001b[0;32m~/quantum/gym/gym/core.py:240\u001b[0m, in \u001b[0;36mWrapper.render\u001b[0;34m(self, mode, **kwargs)\u001b[0m\n\u001b[1;32m    239\u001b[0m \u001b[38;5;28;01mdef\u001b[39;00m \u001b[38;5;21mrender\u001b[39m(\u001b[38;5;28mself\u001b[39m, mode\u001b[38;5;241m=\u001b[39m\u001b[38;5;124m'\u001b[39m\u001b[38;5;124mhuman\u001b[39m\u001b[38;5;124m'\u001b[39m, \u001b[38;5;241m*\u001b[39m\u001b[38;5;241m*\u001b[39mkwargs):\n\u001b[0;32m--> 240\u001b[0m     \u001b[38;5;28;01mreturn\u001b[39;00m \u001b[38;5;28;43mself\u001b[39;49m\u001b[38;5;241;43m.\u001b[39;49m\u001b[43menv\u001b[49m\u001b[38;5;241;43m.\u001b[39;49m\u001b[43mrender\u001b[49m\u001b[43m(\u001b[49m\u001b[43mmode\u001b[49m\u001b[43m,\u001b[49m\u001b[43m \u001b[49m\u001b[38;5;241;43m*\u001b[39;49m\u001b[38;5;241;43m*\u001b[39;49m\u001b[43mkwargs\u001b[49m\u001b[43m)\u001b[49m\n",
      "File \u001b[0;32m~/quantum/gym/gym/core.py:240\u001b[0m, in \u001b[0;36mWrapper.render\u001b[0;34m(self, mode, **kwargs)\u001b[0m\n\u001b[1;32m    239\u001b[0m \u001b[38;5;28;01mdef\u001b[39;00m \u001b[38;5;21mrender\u001b[39m(\u001b[38;5;28mself\u001b[39m, mode\u001b[38;5;241m=\u001b[39m\u001b[38;5;124m'\u001b[39m\u001b[38;5;124mhuman\u001b[39m\u001b[38;5;124m'\u001b[39m, \u001b[38;5;241m*\u001b[39m\u001b[38;5;241m*\u001b[39mkwargs):\n\u001b[0;32m--> 240\u001b[0m     \u001b[38;5;28;01mreturn\u001b[39;00m \u001b[38;5;28;43mself\u001b[39;49m\u001b[38;5;241;43m.\u001b[39;49m\u001b[43menv\u001b[49m\u001b[38;5;241;43m.\u001b[39;49m\u001b[43mrender\u001b[49m\u001b[43m(\u001b[49m\u001b[43mmode\u001b[49m\u001b[43m,\u001b[49m\u001b[43m \u001b[49m\u001b[38;5;241;43m*\u001b[39;49m\u001b[38;5;241;43m*\u001b[39;49m\u001b[43mkwargs\u001b[49m\u001b[43m)\u001b[49m\n",
      "File \u001b[0;32m~/quantum/gym/gym/envs/classic_control/cartpole.py:174\u001b[0m, in \u001b[0;36mCartPoleEnv.render\u001b[0;34m(self, mode)\u001b[0m\n\u001b[1;32m    171\u001b[0m cartheight \u001b[38;5;241m=\u001b[39m \u001b[38;5;241m30.0\u001b[39m\n\u001b[1;32m    173\u001b[0m \u001b[38;5;28;01mif\u001b[39;00m \u001b[38;5;28mself\u001b[39m\u001b[38;5;241m.\u001b[39mviewer \u001b[38;5;129;01mis\u001b[39;00m \u001b[38;5;28;01mNone\u001b[39;00m:\n\u001b[0;32m--> 174\u001b[0m     \u001b[38;5;28;01mfrom\u001b[39;00m \u001b[38;5;21;01mgym\u001b[39;00m\u001b[38;5;21;01m.\u001b[39;00m\u001b[38;5;21;01menvs\u001b[39;00m\u001b[38;5;21;01m.\u001b[39;00m\u001b[38;5;21;01mclassic_control\u001b[39;00m \u001b[38;5;28;01mimport\u001b[39;00m rendering\n\u001b[1;32m    175\u001b[0m     \u001b[38;5;28mself\u001b[39m\u001b[38;5;241m.\u001b[39mviewer \u001b[38;5;241m=\u001b[39m rendering\u001b[38;5;241m.\u001b[39mViewer(screen_width, screen_height)\n\u001b[1;32m    176\u001b[0m     l, r, t, b \u001b[38;5;241m=\u001b[39m \u001b[38;5;241m-\u001b[39mcartwidth \u001b[38;5;241m/\u001b[39m \u001b[38;5;241m2\u001b[39m, cartwidth \u001b[38;5;241m/\u001b[39m \u001b[38;5;241m2\u001b[39m, cartheight \u001b[38;5;241m/\u001b[39m \u001b[38;5;241m2\u001b[39m, \u001b[38;5;241m-\u001b[39mcartheight \u001b[38;5;241m/\u001b[39m \u001b[38;5;241m2\u001b[39m\n",
      "File \u001b[0;32m~/quantum/gym/gym/envs/classic_control/rendering.py:25\u001b[0m\n\u001b[1;32m     17\u001b[0m     \u001b[38;5;28;01mraise\u001b[39;00m \u001b[38;5;167;01mImportError\u001b[39;00m(\u001b[38;5;124m'''\u001b[39m\n\u001b[1;32m     18\u001b[0m \u001b[38;5;124m    Cannot import pyglet.\u001b[39m\n\u001b[1;32m     19\u001b[0m \u001b[38;5;124m    HINT: you can install pyglet directly via \u001b[39m\u001b[38;5;124m'\u001b[39m\u001b[38;5;124mpip install pyglet\u001b[39m\u001b[38;5;124m'\u001b[39m\u001b[38;5;124m.\u001b[39m\n\u001b[1;32m     20\u001b[0m \u001b[38;5;124m    But if you really just want to install all Gym dependencies and not have to think about it,\u001b[39m\n\u001b[1;32m     21\u001b[0m \u001b[38;5;124m    \u001b[39m\u001b[38;5;124m'\u001b[39m\u001b[38;5;124mpip install -e .[all]\u001b[39m\u001b[38;5;124m'\u001b[39m\u001b[38;5;124m or \u001b[39m\u001b[38;5;124m'\u001b[39m\u001b[38;5;124mpip install gym[all]\u001b[39m\u001b[38;5;124m'\u001b[39m\u001b[38;5;124m will do it.\u001b[39m\n\u001b[1;32m     22\u001b[0m \u001b[38;5;124m    \u001b[39m\u001b[38;5;124m'''\u001b[39m)\n\u001b[1;32m     24\u001b[0m \u001b[38;5;28;01mtry\u001b[39;00m:\n\u001b[0;32m---> 25\u001b[0m     \u001b[38;5;28;01mfrom\u001b[39;00m \u001b[38;5;21;01mpyglet\u001b[39;00m\u001b[38;5;21;01m.\u001b[39;00m\u001b[38;5;21;01mgl\u001b[39;00m \u001b[38;5;28;01mimport\u001b[39;00m \u001b[38;5;241m*\u001b[39m\n\u001b[1;32m     26\u001b[0m \u001b[38;5;28;01mexcept\u001b[39;00m \u001b[38;5;167;01mImportError\u001b[39;00m \u001b[38;5;28;01mas\u001b[39;00m e:\n\u001b[1;32m     27\u001b[0m     \u001b[38;5;28;01mraise\u001b[39;00m \u001b[38;5;167;01mImportError\u001b[39;00m(\u001b[38;5;124m'''\u001b[39m\n\u001b[1;32m     28\u001b[0m \u001b[38;5;124m    Error occurred while running `from pyglet.gl import *`\u001b[39m\n\u001b[1;32m     29\u001b[0m \u001b[38;5;124m    HINT: make sure you have OpenGL install. On Ubuntu, you can run \u001b[39m\u001b[38;5;124m'\u001b[39m\u001b[38;5;124mapt-get install python-opengl\u001b[39m\u001b[38;5;124m'\u001b[39m\u001b[38;5;124m.\u001b[39m\n\u001b[1;32m     30\u001b[0m \u001b[38;5;124m    If you\u001b[39m\u001b[38;5;124m'\u001b[39m\u001b[38;5;124mre running on a server, you may need a virtual frame buffer; something like this should work:\u001b[39m\n\u001b[1;32m     31\u001b[0m \u001b[38;5;124m    \u001b[39m\u001b[38;5;124m'\u001b[39m\u001b[38;5;124mxvfb-run -s \u001b[39m\u001b[38;5;130;01m\\\"\u001b[39;00m\u001b[38;5;124m-screen 0 1400x900x24\u001b[39m\u001b[38;5;130;01m\\\"\u001b[39;00m\u001b[38;5;124m python <your_script.py>\u001b[39m\u001b[38;5;124m'\u001b[39m\n\u001b[1;32m     32\u001b[0m \u001b[38;5;124m    \u001b[39m\u001b[38;5;124m'''\u001b[39m)\n",
      "File \u001b[0;32m~/miniconda3/envs/tfq_env/lib/python3.8/site-packages/pyglet/gl/__init__.py:244\u001b[0m\n\u001b[1;32m    241\u001b[0m \u001b[38;5;28;01mif\u001b[39;00m \u001b[38;5;129;01mnot\u001b[39;00m _is_pyglet_doc_run \u001b[38;5;129;01mand\u001b[39;00m \u001b[38;5;124m'\u001b[39m\u001b[38;5;124mpyglet.window\u001b[39m\u001b[38;5;124m'\u001b[39m \u001b[38;5;129;01mnot\u001b[39;00m \u001b[38;5;129;01min\u001b[39;00m _sys\u001b[38;5;241m.\u001b[39mmodules \u001b[38;5;129;01mand\u001b[39;00m _pyglet\u001b[38;5;241m.\u001b[39moptions[\u001b[38;5;124m'\u001b[39m\u001b[38;5;124mshadow_window\u001b[39m\u001b[38;5;124m'\u001b[39m]:\n\u001b[1;32m    242\u001b[0m     \u001b[38;5;66;03m# trickery is for circular import\u001b[39;00m\n\u001b[1;32m    243\u001b[0m     _pyglet\u001b[38;5;241m.\u001b[39mgl \u001b[38;5;241m=\u001b[39m _sys\u001b[38;5;241m.\u001b[39mmodules[\u001b[38;5;18m__name__\u001b[39m]\n\u001b[0;32m--> 244\u001b[0m     \u001b[38;5;28;01mimport\u001b[39;00m \u001b[38;5;21;01mpyglet\u001b[39;00m\u001b[38;5;21;01m.\u001b[39;00m\u001b[38;5;21;01mwindow\u001b[39;00m\n",
      "File \u001b[0;32m~/miniconda3/envs/tfq_env/lib/python3.8/site-packages/pyglet/window/__init__.py:1880\u001b[0m\n\u001b[1;32m   1878\u001b[0m \u001b[38;5;28;01mif\u001b[39;00m \u001b[38;5;129;01mnot\u001b[39;00m _is_pyglet_doc_run:\n\u001b[1;32m   1879\u001b[0m     pyglet\u001b[38;5;241m.\u001b[39mwindow \u001b[38;5;241m=\u001b[39m sys\u001b[38;5;241m.\u001b[39mmodules[\u001b[38;5;18m__name__\u001b[39m]\n\u001b[0;32m-> 1880\u001b[0m     \u001b[43mgl\u001b[49m\u001b[38;5;241;43m.\u001b[39;49m\u001b[43m_create_shadow_window\u001b[49m\u001b[43m(\u001b[49m\u001b[43m)\u001b[49m\n",
      "File \u001b[0;32m~/miniconda3/envs/tfq_env/lib/python3.8/site-packages/pyglet/gl/__init__.py:220\u001b[0m, in \u001b[0;36m_create_shadow_window\u001b[0;34m()\u001b[0m\n\u001b[1;32m    217\u001b[0m     \u001b[38;5;28;01mreturn\u001b[39;00m\n\u001b[1;32m    219\u001b[0m \u001b[38;5;28;01mfrom\u001b[39;00m \u001b[38;5;21;01mpyglet\u001b[39;00m\u001b[38;5;21;01m.\u001b[39;00m\u001b[38;5;21;01mwindow\u001b[39;00m \u001b[38;5;28;01mimport\u001b[39;00m Window\n\u001b[0;32m--> 220\u001b[0m _shadow_window \u001b[38;5;241m=\u001b[39m \u001b[43mWindow\u001b[49m\u001b[43m(\u001b[49m\u001b[43mwidth\u001b[49m\u001b[38;5;241;43m=\u001b[39;49m\u001b[38;5;241;43m1\u001b[39;49m\u001b[43m,\u001b[49m\u001b[43m \u001b[49m\u001b[43mheight\u001b[49m\u001b[38;5;241;43m=\u001b[39;49m\u001b[38;5;241;43m1\u001b[39;49m\u001b[43m,\u001b[49m\u001b[43m \u001b[49m\u001b[43mvisible\u001b[49m\u001b[38;5;241;43m=\u001b[39;49m\u001b[38;5;28;43;01mFalse\u001b[39;49;00m\u001b[43m)\u001b[49m\n\u001b[1;32m    221\u001b[0m _shadow_window\u001b[38;5;241m.\u001b[39mswitch_to()\n\u001b[1;32m    223\u001b[0m \u001b[38;5;28;01mfrom\u001b[39;00m \u001b[38;5;21;01mpyglet\u001b[39;00m \u001b[38;5;28;01mimport\u001b[39;00m app\n",
      "File \u001b[0;32m~/miniconda3/envs/tfq_env/lib/python3.8/site-packages/pyglet/window/xlib/__init__.py:165\u001b[0m, in \u001b[0;36mXlibWindow.__init__\u001b[0;34m(self, *args, **kwargs)\u001b[0m\n\u001b[1;32m    162\u001b[0m         \u001b[38;5;28;01melse\u001b[39;00m:\n\u001b[1;32m    163\u001b[0m             \u001b[38;5;28mself\u001b[39m\u001b[38;5;241m.\u001b[39m_event_handlers[message] \u001b[38;5;241m=\u001b[39m func\n\u001b[0;32m--> 165\u001b[0m \u001b[38;5;28;43msuper\u001b[39;49m\u001b[43m(\u001b[49m\u001b[43mXlibWindow\u001b[49m\u001b[43m,\u001b[49m\u001b[43m \u001b[49m\u001b[38;5;28;43mself\u001b[39;49m\u001b[43m)\u001b[49m\u001b[38;5;241;43m.\u001b[39;49m\u001b[38;5;21;43m__init__\u001b[39;49m\u001b[43m(\u001b[49m\u001b[38;5;241;43m*\u001b[39;49m\u001b[43margs\u001b[49m\u001b[43m,\u001b[49m\u001b[43m \u001b[49m\u001b[38;5;241;43m*\u001b[39;49m\u001b[38;5;241;43m*\u001b[39;49m\u001b[43mkwargs\u001b[49m\u001b[43m)\u001b[49m\n\u001b[1;32m    167\u001b[0m \u001b[38;5;28;01mglobal\u001b[39;00m _can_detect_autorepeat\n\u001b[1;32m    168\u001b[0m \u001b[38;5;28;01mif\u001b[39;00m _can_detect_autorepeat \u001b[38;5;129;01mis\u001b[39;00m \u001b[38;5;28;01mNone\u001b[39;00m:\n",
      "File \u001b[0;32m~/miniconda3/envs/tfq_env/lib/python3.8/site-packages/pyglet/window/__init__.py:591\u001b[0m, in \u001b[0;36mBaseWindow.__init__\u001b[0;34m(self, width, height, caption, resizable, style, fullscreen, visible, vsync, display, screen, config, context, mode)\u001b[0m\n\u001b[1;32m    588\u001b[0m     config \u001b[38;5;241m=\u001b[39m screen\u001b[38;5;241m.\u001b[39mget_best_config(config)\n\u001b[1;32m    590\u001b[0m \u001b[38;5;28;01mif\u001b[39;00m \u001b[38;5;129;01mnot\u001b[39;00m context:\n\u001b[0;32m--> 591\u001b[0m     context \u001b[38;5;241m=\u001b[39m \u001b[43mconfig\u001b[49m\u001b[38;5;241;43m.\u001b[39;49m\u001b[43mcreate_context\u001b[49m\u001b[43m(\u001b[49m\u001b[43mgl\u001b[49m\u001b[38;5;241;43m.\u001b[39;49m\u001b[43mcurrent_context\u001b[49m\u001b[43m)\u001b[49m\n\u001b[1;32m    593\u001b[0m \u001b[38;5;66;03m# Set these in reverse order to above, to ensure we get user preference\u001b[39;00m\n\u001b[1;32m    594\u001b[0m \u001b[38;5;28mself\u001b[39m\u001b[38;5;241m.\u001b[39m_context \u001b[38;5;241m=\u001b[39m context\n",
      "File \u001b[0;32m~/miniconda3/envs/tfq_env/lib/python3.8/site-packages/pyglet/gl/xlib.py:204\u001b[0m, in \u001b[0;36mXlibCanvasConfig13.create_context\u001b[0;34m(self, share)\u001b[0m\n\u001b[1;32m    202\u001b[0m \u001b[38;5;28;01mdef\u001b[39;00m \u001b[38;5;21mcreate_context\u001b[39m(\u001b[38;5;28mself\u001b[39m, share):\n\u001b[1;32m    203\u001b[0m     \u001b[38;5;28;01mif\u001b[39;00m \u001b[38;5;28mself\u001b[39m\u001b[38;5;241m.\u001b[39mglx_info\u001b[38;5;241m.\u001b[39mhave_extension(\u001b[38;5;124m'\u001b[39m\u001b[38;5;124mGLX_ARB_create_context\u001b[39m\u001b[38;5;124m'\u001b[39m):\n\u001b[0;32m--> 204\u001b[0m         \u001b[38;5;28;01mreturn\u001b[39;00m \u001b[43mXlibContextARB\u001b[49m\u001b[43m(\u001b[49m\u001b[38;5;28;43mself\u001b[39;49m\u001b[43m,\u001b[49m\u001b[43m \u001b[49m\u001b[43mshare\u001b[49m\u001b[43m)\u001b[49m\n\u001b[1;32m    205\u001b[0m     \u001b[38;5;28;01melse\u001b[39;00m:\n\u001b[1;32m    206\u001b[0m         \u001b[38;5;28;01mreturn\u001b[39;00m XlibContext13(\u001b[38;5;28mself\u001b[39m, share)\n",
      "File \u001b[0;32m~/miniconda3/envs/tfq_env/lib/python3.8/site-packages/pyglet/gl/xlib.py:314\u001b[0m, in \u001b[0;36mXlibContext13.__init__\u001b[0;34m(self, config, share)\u001b[0m\n\u001b[1;32m    313\u001b[0m \u001b[38;5;28;01mdef\u001b[39;00m \u001b[38;5;21m__init__\u001b[39m(\u001b[38;5;28mself\u001b[39m, config, share):\n\u001b[0;32m--> 314\u001b[0m     \u001b[38;5;28;43msuper\u001b[39;49m\u001b[43m(\u001b[49m\u001b[43mXlibContext13\u001b[49m\u001b[43m,\u001b[49m\u001b[43m \u001b[49m\u001b[38;5;28;43mself\u001b[39;49m\u001b[43m)\u001b[49m\u001b[38;5;241;43m.\u001b[39;49m\u001b[38;5;21;43m__init__\u001b[39;49m\u001b[43m(\u001b[49m\u001b[43mconfig\u001b[49m\u001b[43m,\u001b[49m\u001b[43m \u001b[49m\u001b[43mshare\u001b[49m\u001b[43m)\u001b[49m\n\u001b[1;32m    315\u001b[0m     \u001b[38;5;28mself\u001b[39m\u001b[38;5;241m.\u001b[39mglx_window \u001b[38;5;241m=\u001b[39m \u001b[38;5;28;01mNone\u001b[39;00m\n",
      "File \u001b[0;32m~/miniconda3/envs/tfq_env/lib/python3.8/site-packages/pyglet/gl/xlib.py:218\u001b[0m, in \u001b[0;36mBaseXlibContext.__init__\u001b[0;34m(self, config, share)\u001b[0m\n\u001b[1;32m    215\u001b[0m \u001b[38;5;28mself\u001b[39m\u001b[38;5;241m.\u001b[39mglx_context \u001b[38;5;241m=\u001b[39m \u001b[38;5;28mself\u001b[39m\u001b[38;5;241m.\u001b[39m_create_glx_context(share)\n\u001b[1;32m    216\u001b[0m \u001b[38;5;28;01mif\u001b[39;00m \u001b[38;5;129;01mnot\u001b[39;00m \u001b[38;5;28mself\u001b[39m\u001b[38;5;241m.\u001b[39mglx_context:\n\u001b[1;32m    217\u001b[0m     \u001b[38;5;66;03m# TODO: Check Xlib error generated\u001b[39;00m\n\u001b[0;32m--> 218\u001b[0m     \u001b[38;5;28;01mraise\u001b[39;00m gl\u001b[38;5;241m.\u001b[39mContextException(\u001b[38;5;124m'\u001b[39m\u001b[38;5;124mCould not create GL context\u001b[39m\u001b[38;5;124m'\u001b[39m)\n\u001b[1;32m    220\u001b[0m \u001b[38;5;28mself\u001b[39m\u001b[38;5;241m.\u001b[39m_have_SGI_video_sync \u001b[38;5;241m=\u001b[39m config\u001b[38;5;241m.\u001b[39mglx_info\u001b[38;5;241m.\u001b[39mhave_extension(\u001b[38;5;124m'\u001b[39m\u001b[38;5;124mGLX_SGI_video_sync\u001b[39m\u001b[38;5;124m'\u001b[39m)\n\u001b[1;32m    221\u001b[0m \u001b[38;5;28mself\u001b[39m\u001b[38;5;241m.\u001b[39m_have_SGI_swap_control \u001b[38;5;241m=\u001b[39m config\u001b[38;5;241m.\u001b[39mglx_info\u001b[38;5;241m.\u001b[39mhave_extension(\u001b[38;5;124m'\u001b[39m\u001b[38;5;124mGLX_SGI_swap_control\u001b[39m\u001b[38;5;124m'\u001b[39m)\n",
      "\u001b[0;31mContextException\u001b[0m: Could not create GL context"
     ]
    }
   ],
   "source": [
    "from PIL import Image\n",
    "import gym\n",
    "import numpy as np\n",
    "import matplotlib.pyplot as plt\n",
    "\n",
    "# a dummy environment wrapper that bypasses the rendering in 'human' mode\n",
    "class DummyEnv(gym.Wrapper):\n",
    "    def render(self, mode='human', **kwargs):\n",
    "        if mode == 'rgb_array':\n",
    "            return super().render(mode=mode, **kwargs)\n",
    "        else:\n",
    "            return np.array([])  \n",
    "\n",
    "\n",
    "env = DummyEnv(gym.make('CartPole-v1'))\n",
    "state = env.reset()\n",
    "frames = []\n",
    "\n",
    "for t in range(500):\n",
    "    # RGB array representation of the environment state\n",
    "    rgb_array = env.render(mode='rgb_array')\n",
    "    frames.append(Image.fromarray(rgb_array))\n",
    "\n",
    "    \n",
    "    policy = model([tf.convert_to_tensor([state/state_bounds])])\n",
    "    action = np.random.choice(n_actions, p=policy.numpy()[0])\n",
    "    state, _, done, _ = env.step(action)\n",
    "    if done:\n",
    "        break\n",
    "\n",
    "# frames saved as an animated GIF\n",
    "frames[0].save('gym_animation.gif', save_all=True, append_images=frames[1:], optimize=False, duration=40, loop=0)\n",
    "\n",
    "env.close()\n"
   ]
  },
  {
   "cell_type": "code",
   "execution_count": 2,
   "id": "0b6a39b9-681b-4fe1-8a75-e12d1467fcec",
   "metadata": {},
   "outputs": [
    {
     "name": "stderr",
     "output_type": "stream",
     "text": [
      "UsageError: Environment does not have key: LIBGL_ALWAYS_SOFTWARE\n"
     ]
    }
   ],
   "source": [
    "%env LIBGL_ALWAYS_SOFTWARE\n"
   ]
  },
  {
   "cell_type": "code",
   "execution_count": 1,
   "id": "74c757a1-43e5-4f66-8e64-a5afe7b6bc85",
   "metadata": {},
   "outputs": [
    {
     "data": {
      "text/plain": [
       "'/usr/lib/x86_64-linux-gnu/dri'"
      ]
     },
     "execution_count": 1,
     "metadata": {},
     "output_type": "execute_result"
    }
   ],
   "source": [
    "%env LIBGL_DRIVERS_PATH\n"
   ]
  },
  {
   "cell_type": "markdown",
   "id": "0facd8a6-2182-4bdc-ae2d-a71625120d45",
   "metadata": {},
   "source": [
    "### 3. Deep Q-learning with PQC Q-function approximators"
   ]
  },
  {
   "cell_type": "code",
   "execution_count": 30,
   "id": "b198d76d-ceb4-46b7-a02e-20b525b054fd",
   "metadata": {},
   "outputs": [],
   "source": [
    "class Rescaling(tf.keras.layers.Layer):\n",
    "    def __init__(self, input_dim):\n",
    "        super(Rescaling, self).__init__()\n",
    "        self.input_dim = input_dim\n",
    "        self.w = tf.Variable(\n",
    "            initial_value=tf.ones(shape=(1,input_dim)), dtype=\"float32\",\n",
    "            trainable=True, name=\"obs-weights\")\n",
    "\n",
    "    def call(self, inputs):\n",
    "        return tf.math.multiply((inputs+1)/2, tf.repeat(self.w,repeats=tf.shape(inputs)[0],axis=0))"
   ]
  },
  {
   "cell_type": "code",
   "execution_count": 32,
   "id": "83450777-b0f2-4ced-a6a9-f900b3b91e3d",
   "metadata": {},
   "outputs": [],
   "source": [
    "n_qubits = 4 # Dimension of the state vectors in CartPole\n",
    "n_layers = 5 # Number of layers in the PQC\n",
    "n_actions = 2 # Number of actions in CartPole\n",
    "\n",
    "qubits = cirq.GridQubit.rect(1, n_qubits)\n",
    "ops = [cirq.Z(q) for q in qubits]\n",
    "observables = [ops[0]*ops[1], ops[2]*ops[3]] # Z_0*Z_1 for action 0 and Z_2*Z_3 for action 1"
   ]
  },
  {
   "cell_type": "code",
   "execution_count": 33,
   "id": "74d2a0d3-a135-437a-9a2c-b45be12f0005",
   "metadata": {},
   "outputs": [],
   "source": [
    "def generate_model_Qlearning(qubits, n_layers, n_actions, observables, target):\n",
    "    \"\"\"Generates a Keras model for a data re-uploading PQC Q-function approximator.\"\"\"\n",
    "\n",
    "    input_tensor = tf.keras.Input(shape=(len(qubits), ), dtype=tf.dtypes.float32, name='input')\n",
    "    re_uploading_pqc = ReUploadingPQC(qubits, n_layers, observables, activation='tanh')([input_tensor])\n",
    "    process = tf.keras.Sequential([Rescaling(len(observables))], name=target*\"Target\"+\"Q-values\")\n",
    "    Q_values = process(re_uploading_pqc)\n",
    "    model = tf.keras.Model(inputs=[input_tensor], outputs=Q_values)\n",
    "\n",
    "    return model\n",
    "\n",
    "model = generate_model_Qlearning(qubits, n_layers, n_actions, observables, False)\n",
    "model_target = generate_model_Qlearning(qubits, n_layers, n_actions, observables, True)\n",
    "\n",
    "model_target.set_weights(model.get_weights())"
   ]
  },
  {
   "cell_type": "code",
   "execution_count": 34,
   "id": "b9aab71d-e991-49d3-abd6-db1a4c3e6e51",
   "metadata": {},
   "outputs": [
    {
     "data": {
      "image/png": "[encoded data removed]",
      "text/plain": [
       "<IPython.core.display.Image object>"
      ]
     },
     "execution_count": 34,
     "metadata": {},
     "output_type": "execute_result"
    }
   ],
   "source": [
    "tf.keras.utils.plot_model(model, show_shapes=True, dpi=70)"
   ]
  },
  {
   "cell_type": "code",
   "execution_count": 35,
   "id": "e794e6f2-d10f-4242-8299-a6ac6bf7ed80",
   "metadata": {},
   "outputs": [],
   "source": [
    "def interact_env(state, model, epsilon, n_actions, env):\n",
    "    # Preprocess state\n",
    "    state_array = np.array(state) \n",
    "    state = tf.convert_to_tensor([state_array])\n",
    "\n",
    "    # Sample action\n",
    "    coin = np.random.random()\n",
    "    if coin > epsilon:\n",
    "        q_vals = model([state])\n",
    "        action = int(tf.argmax(q_vals[0]).numpy())\n",
    "    else:\n",
    "        action = np.random.choice(n_actions)\n",
    "\n",
    "    # Apply sampled action in the environment, receive reward and next state\n",
    "    next_state, reward, done, _ = env.step(action)\n",
    "\n",
    "    interaction = {'state': state_array, 'action': action, 'next_state': next_state.copy(),\n",
    "                   'reward': reward, 'done':np.float32(done)}\n",
    "\n",
    "    return interaction"
   ]
  },
  {
   "cell_type": "code",
   "execution_count": 36,
   "id": "5606ac02-7adb-4c1e-b2a8-8d3ae75c6cf3",
   "metadata": {},
   "outputs": [],
   "source": [
    "@tf.function\n",
    "def Q_learning_update(states, actions, rewards, next_states, done, model, gamma, n_actions):\n",
    "    states = tf.convert_to_tensor(states)\n",
    "    actions = tf.convert_to_tensor(actions)\n",
    "    rewards = tf.convert_to_tensor(rewards)\n",
    "    next_states = tf.convert_to_tensor(next_states)\n",
    "    done = tf.convert_to_tensor(done)\n",
    "\n",
    "    # Compute their target q_values and the masks on sampled actions\n",
    "    future_rewards = model_target([next_states])\n",
    "    target_q_values = rewards + (gamma * tf.reduce_max(future_rewards, axis=1)\n",
    "                                                   * (1.0 - done))\n",
    "    masks = tf.one_hot(actions, n_actions)\n",
    "\n",
    "    # Train the model on the states and target Q-values\n",
    "    with tf.GradientTape() as tape:\n",
    "        tape.watch(model.trainable_variables)\n",
    "        q_values = model([states])\n",
    "        q_values_masked = tf.reduce_sum(tf.multiply(q_values, masks), axis=1)\n",
    "        loss = tf.keras.losses.Huber()(target_q_values, q_values_masked)\n",
    "\n",
    "    # Backpropagation\n",
    "    grads = tape.gradient(loss, model.trainable_variables)\n",
    "    for optimizer, w in zip([optimizer_in, optimizer_var, optimizer_out], [w_in, w_var, w_out]):\n",
    "        optimizer.apply_gradients([(grads[w], model.trainable_variables[w])])"
   ]
  },
  {
   "cell_type": "code",
   "execution_count": 37,
   "id": "07306072-9ee8-45e8-b8ef-141cbb5a0f0e",
   "metadata": {},
   "outputs": [],
   "source": [
    "gamma = 0.99\n",
    "n_episodes = 2000\n",
    "\n",
    "# Define replay memory\n",
    "max_memory_length = 10000 # Maximum replay length\n",
    "replay_memory = deque(maxlen=max_memory_length)\n",
    "\n",
    "epsilon = 1.0  # Epsilon greedy parameter\n",
    "epsilon_min = 0.01  # Minimum epsilon greedy parameter\n",
    "decay_epsilon = 0.99 # Decay rate of epsilon greedy parameter\n",
    "batch_size = 16\n",
    "steps_per_update = 10 # Train the model every x steps\n",
    "steps_per_target_update = 30 # Update the target model every x steps"
   ]
  },
  {
   "cell_type": "code",
   "execution_count": 38,
   "id": "15735c51-0556-4cd8-9460-cb757995fbd7",
   "metadata": {},
   "outputs": [],
   "source": [
    "optimizer_in = tf.keras.optimizers.Adam(learning_rate=0.001, amsgrad=True)\n",
    "optimizer_var = tf.keras.optimizers.Adam(learning_rate=0.001, amsgrad=True)\n",
    "optimizer_out = tf.keras.optimizers.Adam(learning_rate=0.1, amsgrad=True)\n",
    "\n",
    "# Assign the model parameters to each optimizer\n",
    "w_in, w_var, w_out = 1, 0, 2"
   ]
  },
  {
   "cell_type": "code",
   "execution_count": null,
   "id": "ba13cc3a-e261-4d5a-89cc-b32f02b5f20a",
   "metadata": {},
   "outputs": [
    {
     "name": "stdout",
     "output_type": "stream",
     "text": [
      "Episode 10/2000, average last 10 rewards 22.9\n",
      "Episode 20/2000, average last 10 rewards 27.4\n",
      "Episode 30/2000, average last 10 rewards 20.4\n",
      "Episode 40/2000, average last 10 rewards 25.1\n",
      "Episode 50/2000, average last 10 rewards 28.3\n",
      "Episode 60/2000, average last 10 rewards 48.8\n",
      "Episode 70/2000, average last 10 rewards 39.6\n",
      "Episode 80/2000, average last 10 rewards 21.2\n",
      "Episode 90/2000, average last 10 rewards 34.1\n",
      "Episode 100/2000, average last 10 rewards 44.4\n",
      "Episode 110/2000, average last 10 rewards 49.9\n",
      "Episode 120/2000, average last 10 rewards 45.6\n",
      "Episode 130/2000, average last 10 rewards 67.7\n",
      "Episode 140/2000, average last 10 rewards 64.7\n",
      "Episode 150/2000, average last 10 rewards 57.0\n",
      "Episode 160/2000, average last 10 rewards 64.1\n",
      "Episode 170/2000, average last 10 rewards 73.6\n",
      "Episode 180/2000, average last 10 rewards 73.9\n",
      "Episode 190/2000, average last 10 rewards 76.1\n",
      "Episode 200/2000, average last 10 rewards 85.8\n",
      "Episode 210/2000, average last 10 rewards 97.6\n",
      "Episode 220/2000, average last 10 rewards 84.1\n",
      "Episode 230/2000, average last 10 rewards 127.7\n",
      "Episode 240/2000, average last 10 rewards 119.3\n",
      "Episode 250/2000, average last 10 rewards 123.5\n",
      "Episode 260/2000, average last 10 rewards 134.5\n",
      "Episode 270/2000, average last 10 rewards 120.4\n",
      "Episode 280/2000, average last 10 rewards 148.4\n",
      "Episode 290/2000, average last 10 rewards 121.9\n",
      "Episode 300/2000, average last 10 rewards 117.5\n",
      "Episode 310/2000, average last 10 rewards 75.0\n",
      "Episode 320/2000, average last 10 rewards 135.1\n",
      "Episode 330/2000, average last 10 rewards 114.4\n",
      "Episode 340/2000, average last 10 rewards 104.4\n",
      "Episode 350/2000, average last 10 rewards 131.3\n",
      "Episode 360/2000, average last 10 rewards 117.8\n",
      "Episode 370/2000, average last 10 rewards 166.0\n",
      "Episode 380/2000, average last 10 rewards 175.5\n",
      "Episode 390/2000, average last 10 rewards 180.4\n",
      "Episode 400/2000, average last 10 rewards 202.3\n",
      "Episode 410/2000, average last 10 rewards 214.7\n",
      "Episode 420/2000, average last 10 rewards 189.3\n",
      "Episode 430/2000, average last 10 rewards 180.6\n",
      "Episode 440/2000, average last 10 rewards 192.0\n",
      "Episode 450/2000, average last 10 rewards 228.5\n",
      "Episode 460/2000, average last 10 rewards 211.2\n",
      "Episode 470/2000, average last 10 rewards 222.8\n",
      "Episode 480/2000, average last 10 rewards 220.0\n",
      "Episode 490/2000, average last 10 rewards 232.3\n",
      "Episode 500/2000, average last 10 rewards 183.6\n",
      "Episode 510/2000, average last 10 rewards 197.6\n",
      "Episode 520/2000, average last 10 rewards 248.4\n",
      "Episode 530/2000, average last 10 rewards 189.4\n",
      "Episode 540/2000, average last 10 rewards 204.0\n",
      "Episode 550/2000, average last 10 rewards 207.3\n",
      "Episode 560/2000, average last 10 rewards 341.2\n",
      "Episode 570/2000, average last 10 rewards 290.6\n",
      "Episode 580/2000, average last 10 rewards 200.9\n",
      "Episode 590/2000, average last 10 rewards 144.0\n",
      "Episode 600/2000, average last 10 rewards 209.6\n",
      "Episode 610/2000, average last 10 rewards 360.2\n",
      "Episode 620/2000, average last 10 rewards 346.4\n",
      "Episode 630/2000, average last 10 rewards 259.9\n",
      "Episode 640/2000, average last 10 rewards 208.1\n",
      "Episode 650/2000, average last 10 rewards 185.6\n",
      "Episode 660/2000, average last 10 rewards 92.8\n",
      "Episode 670/2000, average last 10 rewards 166.3\n",
      "Episode 680/2000, average last 10 rewards 217.1\n",
      "Episode 690/2000, average last 10 rewards 260.0\n",
      "Episode 700/2000, average last 10 rewards 267.4\n",
      "Episode 710/2000, average last 10 rewards 301.3\n",
      "Episode 720/2000, average last 10 rewards 259.5\n",
      "Episode 730/2000, average last 10 rewards 253.2\n",
      "Episode 740/2000, average last 10 rewards 256.4\n",
      "Episode 750/2000, average last 10 rewards 260.0\n",
      "Episode 760/2000, average last 10 rewards 261.9\n",
      "Episode 770/2000, average last 10 rewards 292.5\n",
      "Episode 780/2000, average last 10 rewards 341.2\n",
      "Episode 790/2000, average last 10 rewards 242.8\n",
      "Episode 800/2000, average last 10 rewards 360.3\n",
      "Episode 810/2000, average last 10 rewards 220.6\n",
      "Episode 820/2000, average last 10 rewards 336.3\n",
      "Episode 830/2000, average last 10 rewards 278.4\n",
      "Episode 840/2000, average last 10 rewards 287.1\n",
      "Episode 850/2000, average last 10 rewards 242.3\n",
      "Episode 860/2000, average last 10 rewards 326.1\n",
      "Episode 870/2000, average last 10 rewards 349.5\n",
      "Episode 880/2000, average last 10 rewards 342.5\n"
     ]
    }
   ],
   "source": [
    "env = gym.make(\"CartPole-v1\")\n",
    "\n",
    "episode_reward_history = []\n",
    "step_count = 0\n",
    "for episode in range(n_episodes):\n",
    "    episode_reward = 0\n",
    "    state = env.reset()\n",
    "\n",
    "    while True:\n",
    "        # Interact with env\n",
    "        interaction = interact_env(state, model, epsilon, n_actions, env)\n",
    "\n",
    "        # Store interaction in the replay memory\n",
    "        replay_memory.append(interaction)\n",
    "\n",
    "        state = interaction['next_state']\n",
    "        episode_reward += interaction['reward']\n",
    "        step_count += 1\n",
    "\n",
    "        # Update model\n",
    "        if step_count % steps_per_update == 0:\n",
    "            # Sample a batch of interactions and update Q_function\n",
    "            training_batch = np.random.choice(replay_memory, size=batch_size)\n",
    "            Q_learning_update(np.asarray([x['state'] for x in training_batch]),\n",
    "                              np.asarray([x['action'] for x in training_batch]),\n",
    "                              np.asarray([x['reward'] for x in training_batch], dtype=np.float32),\n",
    "                              np.asarray([x['next_state'] for x in training_batch]),\n",
    "                              np.asarray([x['done'] for x in training_batch], dtype=np.float32),\n",
    "                              model, gamma, n_actions)\n",
    "\n",
    "        # Update target model\n",
    "        if step_count % steps_per_target_update == 0:\n",
    "            model_target.set_weights(model.get_weights())\n",
    "\n",
    "        # Check if the episode is finished\n",
    "        if interaction['done']:\n",
    "            break\n",
    "\n",
    "    # Decay epsilon\n",
    "    epsilon = max(epsilon * decay_epsilon, epsilon_min)\n",
    "    episode_reward_history.append(episode_reward)\n",
    "    if (episode+1)%10 == 0:\n",
    "        avg_rewards = np.mean(episode_reward_history[-10:])\n",
    "        print(\"Episode {}/{}, average last 10 rewards {}\".format(\n",
    "            episode+1, n_episodes, avg_rewards))\n",
    "        if avg_rewards >= 500.0:\n",
    "            break"
   ]
  },
  {
   "cell_type": "code",
   "execution_count": null,
   "id": "ee172920-225e-4006-80cd-9513eb22adf4",
   "metadata": {},
   "outputs": [],
   "source": [
    "plt.figure(figsize=(10,5))\n",
    "plt.plot(episode_reward_history)\n",
    "plt.xlabel('Epsiode')\n",
    "plt.ylabel('Collected rewards')\n",
    "plt.show()"
   ]
  }
 ],
 "metadata": {
  "kernelspec": {
   "display_name": "Python 3 (ipykernel)",
   "language": "python",
   "name": "python3"
  },
  "language_info": {
   "codemirror_mode": {
    "name": "ipython",
    "version": 3
   },
   "file_extension": ".py",
   "mimetype": "text/x-python",
   "name": "python",
   "nbconvert_exporter": "python",
   "pygments_lexer": "ipython3",
   "version": "3.8.18"
  }
 },
 "nbformat": 4,
 "nbformat_minor": 5
}
